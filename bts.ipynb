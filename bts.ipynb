{
 "cells": [
  {
   "cell_type": "code",
   "execution_count": 1,
   "id": "64e1a4ca",
   "metadata": {},
   "outputs": [],
   "source": [
    "import numpy as np\n",
    "import pandas as pd\n",
    "import matplotlib.pyplot as plt\n",
    "from random import choices\n",
    "from sklearn.tree import DecisionTreeClassifier\n",
    "from sklearn.metrics import accuracy_score"
   ]
  },
  {
   "cell_type": "code",
   "execution_count": 2,
   "id": "f1f2ef80",
   "metadata": {
    "scrolled": true
   },
   "outputs": [
    {
     "data": {
      "text/html": [
       "<div>\n",
       "<style scoped>\n",
       "    .dataframe tbody tr th:only-of-type {\n",
       "        vertical-align: middle;\n",
       "    }\n",
       "\n",
       "    .dataframe tbody tr th {\n",
       "        vertical-align: top;\n",
       "    }\n",
       "\n",
       "    .dataframe thead th {\n",
       "        text-align: right;\n",
       "    }\n",
       "</style>\n",
       "<table border=\"1\" class=\"dataframe\">\n",
       "  <thead>\n",
       "    <tr style=\"text-align: right;\">\n",
       "      <th></th>\n",
       "      <th>Wife Age</th>\n",
       "      <th>Wife Edu</th>\n",
       "      <th>Husband Edu</th>\n",
       "      <th>No. Of Children</th>\n",
       "      <th>Wife Religion</th>\n",
       "      <th>Wife Working?</th>\n",
       "      <th>Husband Occupation</th>\n",
       "      <th>Standard of living</th>\n",
       "      <th>Media Exposure</th>\n",
       "      <th>Class</th>\n",
       "    </tr>\n",
       "  </thead>\n",
       "  <tbody>\n",
       "    <tr>\n",
       "      <th>0</th>\n",
       "      <td>24</td>\n",
       "      <td>2</td>\n",
       "      <td>3</td>\n",
       "      <td>3</td>\n",
       "      <td>1</td>\n",
       "      <td>1</td>\n",
       "      <td>2</td>\n",
       "      <td>3</td>\n",
       "      <td>0</td>\n",
       "      <td>1</td>\n",
       "    </tr>\n",
       "    <tr>\n",
       "      <th>1</th>\n",
       "      <td>45</td>\n",
       "      <td>1</td>\n",
       "      <td>3</td>\n",
       "      <td>10</td>\n",
       "      <td>1</td>\n",
       "      <td>1</td>\n",
       "      <td>3</td>\n",
       "      <td>4</td>\n",
       "      <td>0</td>\n",
       "      <td>1</td>\n",
       "    </tr>\n",
       "    <tr>\n",
       "      <th>2</th>\n",
       "      <td>43</td>\n",
       "      <td>2</td>\n",
       "      <td>3</td>\n",
       "      <td>7</td>\n",
       "      <td>1</td>\n",
       "      <td>1</td>\n",
       "      <td>3</td>\n",
       "      <td>4</td>\n",
       "      <td>0</td>\n",
       "      <td>1</td>\n",
       "    </tr>\n",
       "    <tr>\n",
       "      <th>3</th>\n",
       "      <td>42</td>\n",
       "      <td>3</td>\n",
       "      <td>2</td>\n",
       "      <td>9</td>\n",
       "      <td>1</td>\n",
       "      <td>1</td>\n",
       "      <td>3</td>\n",
       "      <td>3</td>\n",
       "      <td>0</td>\n",
       "      <td>1</td>\n",
       "    </tr>\n",
       "    <tr>\n",
       "      <th>4</th>\n",
       "      <td>36</td>\n",
       "      <td>3</td>\n",
       "      <td>3</td>\n",
       "      <td>8</td>\n",
       "      <td>1</td>\n",
       "      <td>1</td>\n",
       "      <td>3</td>\n",
       "      <td>2</td>\n",
       "      <td>0</td>\n",
       "      <td>1</td>\n",
       "    </tr>\n",
       "  </tbody>\n",
       "</table>\n",
       "</div>"
      ],
      "text/plain": [
       "   Wife Age  Wife Edu  Husband Edu  No. Of Children  Wife Religion  \\\n",
       "0        24         2            3                3              1   \n",
       "1        45         1            3               10              1   \n",
       "2        43         2            3                7              1   \n",
       "3        42         3            2                9              1   \n",
       "4        36         3            3                8              1   \n",
       "\n",
       "   Wife Working?  Husband Occupation  Standard of living  Media Exposure  \\\n",
       "0              1                   2                   3               0   \n",
       "1              1                   3                   4               0   \n",
       "2              1                   3                   4               0   \n",
       "3              1                   3                   3               0   \n",
       "4              1                   3                   2               0   \n",
       "\n",
       "   Class  \n",
       "0      1  \n",
       "1      1  \n",
       "2      1  \n",
       "3      1  \n",
       "4      1  "
      ]
     },
     "execution_count": 2,
     "metadata": {},
     "output_type": "execute_result"
    }
   ],
   "source": [
    "cols = ['Wife Age', 'Wife Edu', 'Husband Edu', 'No. Of Children', 'Wife Religion', 'Wife Working?', 'Husband Occupation', 'Standard of living', 'Media Exposure', 'Class']\n",
    "df = pd.read_csv('cmc.data', names=cols)\n",
    "df.head()"
   ]
  },
  {
   "cell_type": "code",
   "execution_count": 4,
   "id": "6580ce9c",
   "metadata": {},
   "outputs": [
    {
     "name": "stdout",
     "output_type": "stream",
     "text": [
      "Training size:  (982, 10)\n",
      "Testing size:  (491, 10)\n",
      "Classes in train set:  [1 3 2]\n",
      "Classes in test set:  [3 1 2]\n"
     ]
    }
   ],
   "source": [
    "splitIndex = int(len(df)/3)\n",
    "\n",
    "df = df.sample(frac = 1).reset_index(drop=True) #shuffle my dataset\n",
    "\n",
    "trainSet = df[0:splitIndex]\n",
    "valSet = df[splitIndex:2*splitIndex]\n",
    "testSet = df[2*splitIndex:len(df.index)]\n",
    "#testSet = df[splitIndex:2*splitIndex]\n",
    "\n",
    "print(\"Training size: \", trainSet.shape)\n",
    "print(\"Validation size: \", valSet.shape)\n",
    "print(\"Testing size: \", testSet.shape)\n",
    "print(\"Classes in train set: \", trainSet['Class'].unique())\n",
    "print(\"Classes in val set: \", valSet['Class'].unique())\n",
    "print(\"Classes in test set: \", testSet['Class'].unique())"
   ]
  },
  {
   "cell_type": "code",
   "execution_count": 16,
   "id": "581df8f8",
   "metadata": {},
   "outputs": [],
   "source": [
    "bts = []\n",
    "\n",
    "for i in range(50, 500, 50):\n",
    "    chosen = trainSet.sample(n=i, replace=True)\n",
    "    bts.append(chosen)"
   ]
  }
 ],
 "metadata": {
  "kernelspec": {
   "display_name": "Python 3 (ipykernel)",
   "language": "python",
   "name": "python3"
  },
  "language_info": {
   "codemirror_mode": {
    "name": "ipython",
    "version": 3
   },
   "file_extension": ".py",
   "mimetype": "text/x-python",
   "name": "python",
   "nbconvert_exporter": "python",
   "pygments_lexer": "ipython3",
   "version": "3.8.10"
  }
 },
 "nbformat": 4,
 "nbformat_minor": 5
}
